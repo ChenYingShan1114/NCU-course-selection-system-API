{
 "cells": [
  {
   "cell_type": "code",
   "execution_count": 2,
   "metadata": {},
   "outputs": [
    {
     "name": "stdout",
     "output_type": "stream",
     "text": [
      "[Work] Fetching departments ......\n",
      "Found 1 pages of courses ......\n",
      "Parsing Chinese course data ......\n",
      "Parsing English course data ......\n",
      "[Done] All departments fetched ......\n"
     ]
    },
    {
     "data": {
      "text/plain": [
       "[{'serial': '82001',\n",
       "  'code': 'NI5002',\n",
       "  'class': '*',\n",
       "  'name': {'en': 'Neural Development and Disease', 'ch': '神經發育與疾病'},\n",
       "  'notice': {'en': '', 'ch': ''},\n",
       "  'instructor': {'en': '', 'ch': '姚季光 周申如'},\n",
       "  'credits': 3,\n",
       "  'time_loc': [{'time': {'week': 3, 'session': ['5', '6', '7']},\n",
       "    'loc': {'building': '*', 'room': '中7'}}],\n",
       "  'isRequired': False,\n",
       "  'isFullSem': False,\n",
       "  'MaxStu': -1},\n",
       " {'serial': '82002',\n",
       "  'code': 'NI5004',\n",
       "  'class': '*',\n",
       "  'name': {'en': 'Interdisciplinary Lecture', 'ch': '跨領域神經科學講座(二)'},\n",
       "  'notice': {'en': '', 'ch': ''},\n",
       "  'instructor': {'en': 'Wu, Denise Hsien', 'ch': '吳嫻'},\n",
       "  'credits': 1,\n",
       "  'time_loc': [{'time': {'week': 1, 'session': ['9', 'A', 'B']},\n",
       "    'loc': {'building': 'S5', 'room': '603-1'}}],\n",
       "  'isRequired': True,\n",
       "  'isFullSem': False,\n",
       "  'MaxStu': -1},\n",
       " {'serial': '82003',\n",
       "  'code': 'NI5006',\n",
       "  'class': '*',\n",
       "  'name': {'en': 'Neuroscience thesis writing and presentation',\n",
       "   'ch': '神經科學論文的寫作與表達'},\n",
       "  'notice': {'en': '', 'ch': '中研院跨領域研究大樓B100，授課教師：簡正鼎'},\n",
       "  'instructor': {'en': '', 'ch': '簡正鼎'},\n",
       "  'credits': 2,\n",
       "  'time_loc': [{'time': {'week': 1, 'session': ['5', '6']},\n",
       "    'loc': {'building': '*', 'room': '中7'}}],\n",
       "  'isRequired': False,\n",
       "  'isFullSem': False,\n",
       "  'MaxStu': -1},\n",
       " {'serial': '82004',\n",
       "  'code': 'NI5008',\n",
       "  'class': '*',\n",
       "  'name': {'en': 'Neuroscience Seminar', 'ch': '進階專題討論(二)'},\n",
       "  'notice': {'en': '', 'ch': '與NS5014、NS6004合班上課'},\n",
       "  'instructor': {'en': 'Chang, Erik Chih-Hung', 'ch': '張智宏'},\n",
       "  'credits': 1,\n",
       "  'time_loc': [{'time': {'week': 2, 'session': ['6', '7']},\n",
       "    'loc': {'building': 'S1', 'room': '226'}}],\n",
       "  'isRequired': True,\n",
       "  'isFullSem': False,\n",
       "  'MaxStu': -1},\n",
       " {'serial': '82005',\n",
       "  'code': 'NI5014',\n",
       "  'class': '*',\n",
       "  'name': {'en': 'Laboratory Rotation', 'ch': '實驗室輪習'},\n",
       "  'notice': {'en': '', 'ch': ''},\n",
       "  'instructor': {'en': '', 'ch': '郭紘志'},\n",
       "  'credits': 2,\n",
       "  'time_loc': [{'time': {'week': 2, 'session': ['A', 'B']},\n",
       "    'loc': {'building': '*', 'room': '中7'}}],\n",
       "  'isRequired': True,\n",
       "  'isFullSem': False,\n",
       "  'MaxStu': -1},\n",
       " {'serial': '82006',\n",
       "  'code': 'NI5016',\n",
       "  'class': '*',\n",
       "  'name': {'en': 'Neuroscience Seminar II', 'ch': '專題討論(二)'},\n",
       "  'notice': {'en': '', 'ch': '與NS5012、NS6002合班上課'},\n",
       "  'instructor': {'en': 'Hsu, Chun-Hsien', 'ch': '徐峻賢'},\n",
       "  'credits': 1,\n",
       "  'time_loc': [{'time': {'week': 2, 'session': ['6', '7']},\n",
       "    'loc': {'building': 'S5', 'room': '607-1'}}],\n",
       "  'isRequired': True,\n",
       "  'isFullSem': False,\n",
       "  'MaxStu': -1}]"
      ]
     },
     "execution_count": 2,
     "metadata": {},
     "output_type": "execute_result"
    }
   ],
   "source": [
    "from crawler import craw\n",
    "craw.fetch_courses('https://cis.ncu.edu.tw/Course/main/query/byUnion?dept=deptI1I8412I0')"
   ]
  },
  {
   "cell_type": "code",
   "execution_count": null,
   "metadata": {},
   "outputs": [],
   "source": []
  }
 ],
 "metadata": {
  "kernelspec": {
   "display_name": "crawler",
   "language": "python",
   "name": "python3"
  },
  "language_info": {
   "codemirror_mode": {
    "name": "ipython",
    "version": 3
   },
   "file_extension": ".py",
   "mimetype": "text/x-python",
   "name": "python",
   "nbconvert_exporter": "python",
   "pygments_lexer": "ipython3",
   "version": "3.9.18"
  }
 },
 "nbformat": 4,
 "nbformat_minor": 2
}
